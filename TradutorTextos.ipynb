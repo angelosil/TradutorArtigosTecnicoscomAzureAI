{
  "nbformat": 4,
  "nbformat_minor": 0,
  "metadata": {
    "colab": {
      "provenance": [],
      "authorship_tag": "ABX9TyOSChE7gWdy8NaBHnXz3/QJ",
      "include_colab_link": true
    },
    "kernelspec": {
      "name": "python3",
      "display_name": "Python 3"
    },
    "language_info": {
      "name": "python"
    }
  },
  "cells": [
    {
      "cell_type": "markdown",
      "metadata": {
        "id": "view-in-github",
        "colab_type": "text"
      },
      "source": [
        "<a href=\"https://colab.research.google.com/github/angelosil/TradutorArtigosTecnicoscomAzureAI/blob/main/TradutorTextos.ipynb\" target=\"_parent\"><img src=\"https://colab.research.google.com/assets/colab-badge.svg\" alt=\"Open In Colab\"/></a>"
      ]
    },
    {
      "cell_type": "code",
      "execution_count": null,
      "metadata": {
        "colab": {
          "base_uri": "https://localhost:8080/"
        },
        "id": "iRLK5e_oXerT",
        "outputId": "0c8e8528-2453-40fc-e788-cb95684a3488"
      },
      "outputs": [
        {
          "output_type": "stream",
          "name": "stdout",
          "text": [
            "Requirement already satisfied: requests in /usr/local/lib/python3.10/dist-packages (2.32.3)\n",
            "Collecting python-docx\n",
            "  Downloading python_docx-1.1.2-py3-none-any.whl.metadata (2.0 kB)\n",
            "Requirement already satisfied: charset-normalizer<4,>=2 in /usr/local/lib/python3.10/dist-packages (from requests) (3.4.0)\n",
            "Requirement already satisfied: idna<4,>=2.5 in /usr/local/lib/python3.10/dist-packages (from requests) (3.10)\n",
            "Requirement already satisfied: urllib3<3,>=1.21.1 in /usr/local/lib/python3.10/dist-packages (from requests) (2.2.3)\n",
            "Requirement already satisfied: certifi>=2017.4.17 in /usr/local/lib/python3.10/dist-packages (from requests) (2024.8.30)\n",
            "Requirement already satisfied: lxml>=3.1.0 in /usr/local/lib/python3.10/dist-packages (from python-docx) (5.3.0)\n",
            "Requirement already satisfied: typing-extensions>=4.9.0 in /usr/local/lib/python3.10/dist-packages (from python-docx) (4.12.2)\n",
            "Downloading python_docx-1.1.2-py3-none-any.whl (244 kB)\n",
            "\u001b[2K   \u001b[90m━━━━━━━━━━━━━━━━━━━━━━━━━━━━━━━━━━━━━━━━\u001b[0m \u001b[32m244.3/244.3 kB\u001b[0m \u001b[31m3.9 MB/s\u001b[0m eta \u001b[36m0:00:00\u001b[0m\n",
            "\u001b[?25hInstalling collected packages: python-docx\n",
            "Successfully installed python-docx-1.1.2\n"
          ]
        }
      ],
      "source": [
        "!pip install requests python-docx"
      ]
    },
    {
      "cell_type": "code",
      "source": [
        "import requests\n",
        "from docx import Document\n",
        "import os\n",
        "\n",
        "subscript_key = \"[YOUR_API_KEY]\"\n",
        "endpoint = \"https://api.cognitive.microsofttranslator.com/\"\n",
        "location = \"eastus\"\n",
        "targetlanguage = \"pt-br\"\n",
        "\n",
        "\n",
        "\n",
        "def translator_text(text, targe_language):\n",
        "  urlfinal= endpoint + \"translate\"\n",
        "\n",
        "  params = {\n",
        "    'api-version': '3.0',\n",
        "    'from': 'en',\n",
        "    'to': [targetlanguage]\n",
        "  }\n",
        "\n",
        "  headers = {\n",
        "    'Ocp-Apim-Subscription-Key': subscript_key,\n",
        "    'Ocp-Apim-Subscription-Region': location,\n",
        "    'Content-type': 'application/json',\n",
        "    'X-ClientTraceId': str(os.urandom(16))\n",
        "  }\n",
        "\n",
        "  body = [{\n",
        "      'text': text\n",
        "  }]\n",
        "\n",
        "  response = requests.post(urlfinal, params=params, headers=headers, json=body)\n",
        "  response = response.json()\n",
        "\n",
        "  return response[0][\"translations\"][0][\"text\"]\n",
        "\n",
        "def translator_document(path):\n",
        "  document = Document(path)\n",
        "  full_text = []\n",
        "  translated_text = \"\"\n",
        "\n",
        "  for paragrafh in document.paragraphs:\n",
        "    translated_text = translator_text(paragrafh.text, targetlanguage)\n",
        "    full_text.append(translated_text)\n",
        "\n",
        "  translateddoc = Document()\n",
        "  for line in full_text:\n",
        "    translateddoc.add_paragraph(line)\n",
        "\n",
        "  path_translated_document = path.replace(\".docx\", f\"_{targetlanguage}.docx\")\n",
        "  translateddoc.save(path_translated_document)\n",
        "  return path_translated_document\n",
        "\n",
        "translator_text(\"Never had much faith in love or miracles\", \"pt-br\")\n",
        "\n"
      ],
      "metadata": {
        "id": "Nczlh7LwYPi_",
        "colab": {
          "base_uri": "https://localhost:8080/",
          "height": 36
        },
        "outputId": "d74df461-5cb2-4044-d2fa-5049c074f7a7"
      },
      "execution_count": null,
      "outputs": [
        {
          "output_type": "execute_result",
          "data": {
            "text/plain": [
              "'Nunca tive muita fé no amor ou em milagres'"
            ],
            "application/vnd.google.colaboratory.intrinsic+json": {
              "type": "string"
            }
          },
          "metadata": {},
          "execution_count": 2
        }
      ]
    },
    {
      "cell_type": "code",
      "source": [
        "translator_document(\"/content/brunomarsletra.docx\")"
      ],
      "metadata": {
        "colab": {
          "base_uri": "https://localhost:8080/",
          "height": 36
        },
        "id": "40-EzB2CrXxq",
        "outputId": "31f5e216-cbe5-4145-b407-7160645ba108"
      },
      "execution_count": null,
      "outputs": [
        {
          "output_type": "execute_result",
          "data": {
            "text/plain": [
              "'/content/brunomarsletra_pt-br.docx'"
            ],
            "application/vnd.google.colaboratory.intrinsic+json": {
              "type": "string"
            }
          },
          "metadata": {},
          "execution_count": 3
        }
      ]
    }
  ]
}